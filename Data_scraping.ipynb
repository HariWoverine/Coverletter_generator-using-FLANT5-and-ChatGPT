{
 "cells": [
  {
   "cell_type": "code",
   "execution_count": 79,
   "id": "817e1e0d-76f0-47e6-a496-7d8815a8438f",
   "metadata": {},
   "outputs": [],
   "source": [
    "import time\n",
    "import random\n",
    "import re\n",
    "from bs4 import BeautifulSoup\n",
    "from selenium import webdriver\n",
    "import requests\n",
    "from selenium.webdriver.common.by import By\n",
    "# driver = webdriver.Chrome(r'C:\\Users\\Nandakumar\\Documents\\MDS\\Block 6\\week2\\Trends\\chromedriver_win32\\chromedriver')"
   ]
  },
  {
   "cell_type": "code",
   "execution_count": 73,
   "id": "ec6b7519-8e0d-45df-acdc-67c79cfd6963",
   "metadata": {},
   "outputs": [],
   "source": [
    "def read_page_indeed(link):\n",
    "    '''\n",
    "    Function to list of Cover letter links from indeed\n",
    "    Input: link of the respective pages \n",
    "    output: list of Cover letter links from each page \n",
    "    '''\n",
    "    cv_link = []\n",
    "    driver = webdriver.Chrome(r'C:\\Users\\Nandakumar\\Documents\\MDS\\Block 6\\week2\\Trends\\chromedriver_win32\\chromedriver')\n",
    "    driver.get(link)\n",
    "    content = driver.page_source\n",
    "    soup = BeautifulSoup(content)\n",
    "    for a in soup.find_all('a',href=True):\n",
    "        if ('/career-advice/cover-letter-samples' in a['href']):\n",
    "            temp = a['href'].split('/')\n",
    "            if (len(temp) >3 and not re.search('[0-9]+',temp[-1])):\n",
    "                cv_link.append(a['href'])\n",
    "    driver.close()\n",
    "    return(cv_link)"
   ]
  },
  {
   "cell_type": "code",
   "execution_count": 89,
   "id": "e5367dc6-436a-4a04-b486-fbb6d751228e",
   "metadata": {
    "tags": []
   },
   "outputs": [],
   "source": [
    "def read_sample_cv(link):\n",
    "    '''\n",
    "    Function to read a webpage and make them into a cover letter \n",
    "    Input: link of the cover letter page\n",
    "    output: list having one element the whole cover letter from the respective page\n",
    "    '''\n",
    "    driver1 = webdriver.Chrome(r'C:\\Users\\Nandakumar\\Documents\\MDS\\Block 6\\week2\\Trends\\chromedriver_win32\\chromedriver')\n",
    "    driver1.get(link)\n",
    "    content = driver1.page_source\n",
    "    soup1 = BeautifulSoup(content)\n",
    "    time.sleep(random.random()+random.random())\n",
    "    for div in soup1.find_all(\"div\", {\"class\": \"editor-module\"}):\n",
    "        cover_letter = []\n",
    "        new_line = div.find_all('p')\n",
    "        for text in new_line:\n",
    "            cover_letter.append(text.text)\n",
    "    print(cover_letter[0])\n",
    "    driver1.close()    \n",
    "    return '\\n'.join(cover_letter)"
   ]
  },
  {
   "cell_type": "code",
   "execution_count": 74,
   "id": "1ab217e6-29d2-41da-b3b0-fd3ba5cf9a31",
   "metadata": {},
   "outputs": [
    {
     "name": "stderr",
     "output_type": "stream",
     "text": [
      "C:\\Users\\Nandakumar\\AppData\\Local\\Temp\\ipykernel_22392\\2698395707.py:8: DeprecationWarning: executable_path has been deprecated, please pass in a Service object\n",
      "  driver = webdriver.Chrome(r'C:\\Users\\Nandakumar\\Documents\\MDS\\Block 6\\week2\\Trends\\chromedriver_win32\\chromedriver')\n"
     ]
    },
    {
     "name": "stdout",
     "output_type": "stream",
     "text": [
      "340\n"
     ]
    }
   ],
   "source": [
    "Master_list=[]\n",
    "for i in range( 1,18):\n",
    "    link = 'https://www.indeed.com/career-advice/cover-letter-samples/'+str(i)\n",
    "    page_output = read_page_indeed(link)\n",
    "    Master_list.extend(page_output)\n",
    "print(len(Master_list))   "
   ]
  },
  {
   "cell_type": "code",
   "execution_count": null,
   "id": "ecd358b6-7286-4308-974c-a5202a9e7584",
   "metadata": {},
   "outputs": [],
   "source": [
    "cover_letters=[]\n",
    "for i in Master_list:\n",
    "    path = 'https://www.indeed.com'\n",
    "    individual_cover_letter=read_sample_cv(path+i)\n",
    "    cover_letters.append(individual_cover_letter)\n",
    "print(len(cover_letters))"
   ]
  },
  {
   "cell_type": "code",
   "execution_count": 91,
   "id": "bacf55cc-0d80-4b0a-b68d-7b4fa82d212c",
   "metadata": {},
   "outputs": [],
   "source": [
    "import pandas as pd\n",
    "final_dataset = pd.DataFrame({'master_list':Master_list,\n",
    "                              'cover_letter':cover_letters})\n",
    "final_dataset.to_csv('cover_letter_dataset.csv',index = False)"
   ]
  }
 ],
 "metadata": {
  "kernelspec": {
   "display_name": "Python 3 (ipykernel)",
   "language": "python",
   "name": "python3"
  },
  "language_info": {
   "codemirror_mode": {
    "name": "ipython",
    "version": 3
   },
   "file_extension": ".py",
   "mimetype": "text/x-python",
   "name": "python",
   "nbconvert_exporter": "python",
   "pygments_lexer": "ipython3",
   "version": "3.10.9"
  }
 },
 "nbformat": 4,
 "nbformat_minor": 5
}
